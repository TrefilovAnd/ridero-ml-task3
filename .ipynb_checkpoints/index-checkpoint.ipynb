{
 "cells": [
  {
   "cell_type": "code",
   "execution_count": 1,
   "metadata": {},
   "outputs": [],
   "source": [
    "import pandas\n",
    "import numpy as np\n",
    "import matplotlib.pyplot as plt\n",
    "\n",
    "from sklearn import preprocessing\n",
    "from sklearn.naive_bayes import MultinomialNB\n",
    "from sklearn.model_selection import train_test_split\n",
    "\n",
    "import pymorphy2\n",
    "\n",
    "data = pandas.read_csv('./train.csv', index_col='id')\n",
    "test = pandas.read_csv('./test.csv', index_col='id')\n",
    "\n",
    "X = data.values[::, :1]\n",
    "y = data.values[::, 1:]\n",
    "testX = test.values[::, ::]"
   ]
  },
  {
   "cell_type": "code",
   "execution_count": 2,
   "metadata": {},
   "outputs": [],
   "source": [
    "morph = pymorphy2.MorphAnalyzer()"
   ]
  },
  {
   "cell_type": "code",
   "execution_count": 3,
   "metadata": {
    "collapsed": true
   },
   "outputs": [
    {
     "data": {
      "text/plain": [
       "array([ 'целовать  закачаться    объятие   небо  счастие  душа слеза  уйти  утро  кровать  чудо  остаться спать  течь полезвнож  даже бритва  нельзя  кураж  люба любовный битва    правило искусство  сходиться несмело   проверять чувство  после доверять тело   ',\n",
       "       'рываета  свой   исходить  слово  можно  сделать вывод  исследовать чужой незнакомый  художник делать  свой    мастер расширять  дополнять  вскрывать   отождествляться     только   вживаться  он мочь передать состояние это пространство  настроение точно   возможность объективно    конечно ',\n",
       "       ' оправдать      работа сказать поехать  нотариус надо довнести картошка  почистить  повозмущаться потом сдаться  равно ты вылечить только  произнести негромко  повесить трубка быстро собраться  дорога перебирать  карман купюра вдруг вспомнить    фотографировать    весной  начало   холодный  он должный сохраниться фотография  ',\n",
       "       ...,\n",
       "       '   себя  уговорить  побег  два товарищ   отдать  армия  откуп свой деревня   служить  напрашиваться  утро перед казарма новобранец  вбить столб повешенный болтаться трое бывший доброволец  попытка побег  быть  день испытание  остаться пятьдесят сильно измотать будущий пограничник усиленно готовиться  столь ответство',\n",
       "       'завывание  стенание ритмично покачиваться  сторона  сторона женщина несколько мужчина укутать тело покойный рогожа  который  лежалый плотно спеленать  обвязать напоследок крутить  лыко верёвка  этот свёртка разместить  подготовить обласа  взять  рука шестеро мужчина  понести   посёлок   единый двинуться  они впереди процессия охотник  лодка  они шест',\n",
       "       'росало    напряжение  глаз лопнуть капилляр  сжать сердце  слеза хлынуть  воспалить глаз   испуг подбежать  стол схватить приготовить заранее горсть успокоительный таблетка  стакан вода    лёгкий твердить  положить  таблетка   заливать вода  непонимающий смотреть  мать красный глаз    повторять  задыхаться '],\n",
       "      dtype='<U388')"
      ]
     },
     "execution_count": 3,
     "metadata": {},
     "output_type": "execute_result"
    }
   ],
   "source": [
    "a = np.array([], dtype=str)\n",
    "\n",
    "def len_filtr(word):\n",
    "    if (len(word) < 4 or word[0].isupper()):\n",
    "        return ''\n",
    "    else:\n",
    "        return morph.parse(word)[0].normal_form\n",
    "\n",
    "def parseStr(x):\n",
    "    f = np.vectorize(len_filtr)\n",
    "    return f(\"\".join((char if char.isalpha() else \" \") for char in x).split())\n",
    "\n",
    "for x_t in X.ravel():\n",
    "    a = np.append(a, ' '.join(parseStr(x_t)))\n",
    "    \n",
    "a"
   ]
  },
  {
   "cell_type": "code",
   "execution_count": 25,
   "metadata": {
    "collapsed": true
   },
   "outputs": [
    {
     "ename": "AttributeError",
     "evalue": "'numpy.ndarray' object has no attribute 'lower'",
     "output_type": "error",
     "traceback": [
      "\u001b[0;31m---------------------------------------------------------------------------\u001b[0m",
      "\u001b[0;31mAttributeError\u001b[0m                            Traceback (most recent call last)",
      "\u001b[0;32m<ipython-input-25-dffb5cab77e3>\u001b[0m in \u001b[0;36m<module>\u001b[0;34m()\u001b[0m\n\u001b[0;32m----> 1\u001b[0;31m \u001b[0mtext_proba\u001b[0m \u001b[0;34m=\u001b[0m \u001b[0mtext_clf\u001b[0m\u001b[0;34m.\u001b[0m\u001b[0mpredict_proba\u001b[0m\u001b[0;34m(\u001b[0m\u001b[0mvecTest\u001b[0m\u001b[0;34m.\u001b[0m\u001b[0mtoarray\u001b[0m\u001b[0;34m(\u001b[0m\u001b[0;34m)\u001b[0m\u001b[0;34m)\u001b[0m\u001b[0;34m\u001b[0m\u001b[0m\n\u001b[0m",
      "\u001b[0;32m~/Desktop/ML/ДЗ3/venv/lib/python3.6/site-packages/sklearn/utils/metaestimators.py\u001b[0m in \u001b[0;36m<lambda>\u001b[0;34m(*args, **kwargs)\u001b[0m\n\u001b[1;32m    113\u001b[0m \u001b[0;34m\u001b[0m\u001b[0m\n\u001b[1;32m    114\u001b[0m         \u001b[0;31m# lambda, but not partial, allows help() to work with update_wrapper\u001b[0m\u001b[0;34m\u001b[0m\u001b[0;34m\u001b[0m\u001b[0m\n\u001b[0;32m--> 115\u001b[0;31m         \u001b[0mout\u001b[0m \u001b[0;34m=\u001b[0m \u001b[0;32mlambda\u001b[0m \u001b[0;34m*\u001b[0m\u001b[0margs\u001b[0m\u001b[0;34m,\u001b[0m \u001b[0;34m**\u001b[0m\u001b[0mkwargs\u001b[0m\u001b[0;34m:\u001b[0m \u001b[0mself\u001b[0m\u001b[0;34m.\u001b[0m\u001b[0mfn\u001b[0m\u001b[0;34m(\u001b[0m\u001b[0mobj\u001b[0m\u001b[0;34m,\u001b[0m \u001b[0;34m*\u001b[0m\u001b[0margs\u001b[0m\u001b[0;34m,\u001b[0m \u001b[0;34m**\u001b[0m\u001b[0mkwargs\u001b[0m\u001b[0;34m)\u001b[0m\u001b[0;34m\u001b[0m\u001b[0m\n\u001b[0m\u001b[1;32m    116\u001b[0m         \u001b[0;31m# update the docstring of the returned function\u001b[0m\u001b[0;34m\u001b[0m\u001b[0;34m\u001b[0m\u001b[0m\n\u001b[1;32m    117\u001b[0m         \u001b[0mupdate_wrapper\u001b[0m\u001b[0;34m(\u001b[0m\u001b[0mout\u001b[0m\u001b[0;34m,\u001b[0m \u001b[0mself\u001b[0m\u001b[0;34m.\u001b[0m\u001b[0mfn\u001b[0m\u001b[0;34m)\u001b[0m\u001b[0;34m\u001b[0m\u001b[0m\n",
      "\u001b[0;32m~/Desktop/ML/ДЗ3/venv/lib/python3.6/site-packages/sklearn/pipeline.py\u001b[0m in \u001b[0;36mpredict_proba\u001b[0;34m(self, X)\u001b[0m\n\u001b[1;32m    354\u001b[0m         \u001b[0;32mfor\u001b[0m \u001b[0mname\u001b[0m\u001b[0;34m,\u001b[0m \u001b[0mtransform\u001b[0m \u001b[0;32min\u001b[0m \u001b[0mself\u001b[0m\u001b[0;34m.\u001b[0m\u001b[0msteps\u001b[0m\u001b[0;34m[\u001b[0m\u001b[0;34m:\u001b[0m\u001b[0;34m-\u001b[0m\u001b[0;36m1\u001b[0m\u001b[0;34m]\u001b[0m\u001b[0;34m:\u001b[0m\u001b[0;34m\u001b[0m\u001b[0m\n\u001b[1;32m    355\u001b[0m             \u001b[0;32mif\u001b[0m \u001b[0mtransform\u001b[0m \u001b[0;32mis\u001b[0m \u001b[0;32mnot\u001b[0m \u001b[0;32mNone\u001b[0m\u001b[0;34m:\u001b[0m\u001b[0;34m\u001b[0m\u001b[0m\n\u001b[0;32m--> 356\u001b[0;31m                 \u001b[0mXt\u001b[0m \u001b[0;34m=\u001b[0m \u001b[0mtransform\u001b[0m\u001b[0;34m.\u001b[0m\u001b[0mtransform\u001b[0m\u001b[0;34m(\u001b[0m\u001b[0mXt\u001b[0m\u001b[0;34m)\u001b[0m\u001b[0;34m\u001b[0m\u001b[0m\n\u001b[0m\u001b[1;32m    357\u001b[0m         \u001b[0;32mreturn\u001b[0m \u001b[0mself\u001b[0m\u001b[0;34m.\u001b[0m\u001b[0msteps\u001b[0m\u001b[0;34m[\u001b[0m\u001b[0;34m-\u001b[0m\u001b[0;36m1\u001b[0m\u001b[0;34m]\u001b[0m\u001b[0;34m[\u001b[0m\u001b[0;34m-\u001b[0m\u001b[0;36m1\u001b[0m\u001b[0;34m]\u001b[0m\u001b[0;34m.\u001b[0m\u001b[0mpredict_proba\u001b[0m\u001b[0;34m(\u001b[0m\u001b[0mXt\u001b[0m\u001b[0;34m)\u001b[0m\u001b[0;34m\u001b[0m\u001b[0m\n\u001b[1;32m    358\u001b[0m \u001b[0;34m\u001b[0m\u001b[0m\n",
      "\u001b[0;32m~/Desktop/ML/ДЗ3/venv/lib/python3.6/site-packages/sklearn/feature_extraction/text.py\u001b[0m in \u001b[0;36mtransform\u001b[0;34m(self, raw_documents)\u001b[0m\n\u001b[1;32m    921\u001b[0m \u001b[0;34m\u001b[0m\u001b[0m\n\u001b[1;32m    922\u001b[0m         \u001b[0;31m# use the same matrix-building strategy as fit_transform\u001b[0m\u001b[0;34m\u001b[0m\u001b[0;34m\u001b[0m\u001b[0m\n\u001b[0;32m--> 923\u001b[0;31m         \u001b[0m_\u001b[0m\u001b[0;34m,\u001b[0m \u001b[0mX\u001b[0m \u001b[0;34m=\u001b[0m \u001b[0mself\u001b[0m\u001b[0;34m.\u001b[0m\u001b[0m_count_vocab\u001b[0m\u001b[0;34m(\u001b[0m\u001b[0mraw_documents\u001b[0m\u001b[0;34m,\u001b[0m \u001b[0mfixed_vocab\u001b[0m\u001b[0;34m=\u001b[0m\u001b[0;32mTrue\u001b[0m\u001b[0;34m)\u001b[0m\u001b[0;34m\u001b[0m\u001b[0m\n\u001b[0m\u001b[1;32m    924\u001b[0m         \u001b[0;32mif\u001b[0m \u001b[0mself\u001b[0m\u001b[0;34m.\u001b[0m\u001b[0mbinary\u001b[0m\u001b[0;34m:\u001b[0m\u001b[0;34m\u001b[0m\u001b[0m\n\u001b[1;32m    925\u001b[0m             \u001b[0mX\u001b[0m\u001b[0;34m.\u001b[0m\u001b[0mdata\u001b[0m\u001b[0;34m.\u001b[0m\u001b[0mfill\u001b[0m\u001b[0;34m(\u001b[0m\u001b[0;36m1\u001b[0m\u001b[0;34m)\u001b[0m\u001b[0;34m\u001b[0m\u001b[0m\n",
      "\u001b[0;32m~/Desktop/ML/ДЗ3/venv/lib/python3.6/site-packages/sklearn/feature_extraction/text.py\u001b[0m in \u001b[0;36m_count_vocab\u001b[0;34m(self, raw_documents, fixed_vocab)\u001b[0m\n\u001b[1;32m    790\u001b[0m         \u001b[0;32mfor\u001b[0m \u001b[0mdoc\u001b[0m \u001b[0;32min\u001b[0m \u001b[0mraw_documents\u001b[0m\u001b[0;34m:\u001b[0m\u001b[0;34m\u001b[0m\u001b[0m\n\u001b[1;32m    791\u001b[0m             \u001b[0mfeature_counter\u001b[0m \u001b[0;34m=\u001b[0m \u001b[0;34m{\u001b[0m\u001b[0;34m}\u001b[0m\u001b[0;34m\u001b[0m\u001b[0m\n\u001b[0;32m--> 792\u001b[0;31m             \u001b[0;32mfor\u001b[0m \u001b[0mfeature\u001b[0m \u001b[0;32min\u001b[0m \u001b[0manalyze\u001b[0m\u001b[0;34m(\u001b[0m\u001b[0mdoc\u001b[0m\u001b[0;34m)\u001b[0m\u001b[0;34m:\u001b[0m\u001b[0;34m\u001b[0m\u001b[0m\n\u001b[0m\u001b[1;32m    793\u001b[0m                 \u001b[0;32mtry\u001b[0m\u001b[0;34m:\u001b[0m\u001b[0;34m\u001b[0m\u001b[0m\n\u001b[1;32m    794\u001b[0m                     \u001b[0mfeature_idx\u001b[0m \u001b[0;34m=\u001b[0m \u001b[0mvocabulary\u001b[0m\u001b[0;34m[\u001b[0m\u001b[0mfeature\u001b[0m\u001b[0;34m]\u001b[0m\u001b[0;34m\u001b[0m\u001b[0m\n",
      "\u001b[0;32m~/Desktop/ML/ДЗ3/venv/lib/python3.6/site-packages/sklearn/feature_extraction/text.py\u001b[0m in \u001b[0;36m<lambda>\u001b[0;34m(doc)\u001b[0m\n\u001b[1;32m    264\u001b[0m \u001b[0;34m\u001b[0m\u001b[0m\n\u001b[1;32m    265\u001b[0m             return lambda doc: self._word_ngrams(\n\u001b[0;32m--> 266\u001b[0;31m                 tokenize(preprocess(self.decode(doc))), stop_words)\n\u001b[0m\u001b[1;32m    267\u001b[0m \u001b[0;34m\u001b[0m\u001b[0m\n\u001b[1;32m    268\u001b[0m         \u001b[0;32melse\u001b[0m\u001b[0;34m:\u001b[0m\u001b[0;34m\u001b[0m\u001b[0m\n",
      "\u001b[0;32m~/Desktop/ML/ДЗ3/venv/lib/python3.6/site-packages/sklearn/feature_extraction/text.py\u001b[0m in \u001b[0;36m<lambda>\u001b[0;34m(x)\u001b[0m\n\u001b[1;32m    230\u001b[0m \u001b[0;34m\u001b[0m\u001b[0m\n\u001b[1;32m    231\u001b[0m         \u001b[0;32mif\u001b[0m \u001b[0mself\u001b[0m\u001b[0;34m.\u001b[0m\u001b[0mlowercase\u001b[0m\u001b[0;34m:\u001b[0m\u001b[0;34m\u001b[0m\u001b[0m\n\u001b[0;32m--> 232\u001b[0;31m             \u001b[0;32mreturn\u001b[0m \u001b[0;32mlambda\u001b[0m \u001b[0mx\u001b[0m\u001b[0;34m:\u001b[0m \u001b[0mstrip_accents\u001b[0m\u001b[0;34m(\u001b[0m\u001b[0mx\u001b[0m\u001b[0;34m.\u001b[0m\u001b[0mlower\u001b[0m\u001b[0;34m(\u001b[0m\u001b[0;34m)\u001b[0m\u001b[0;34m)\u001b[0m\u001b[0;34m\u001b[0m\u001b[0m\n\u001b[0m\u001b[1;32m    233\u001b[0m         \u001b[0;32melse\u001b[0m\u001b[0;34m:\u001b[0m\u001b[0;34m\u001b[0m\u001b[0m\n\u001b[1;32m    234\u001b[0m             \u001b[0;32mreturn\u001b[0m \u001b[0mstrip_accents\u001b[0m\u001b[0;34m\u001b[0m\u001b[0m\n",
      "\u001b[0;31mAttributeError\u001b[0m: 'numpy.ndarray' object has no attribute 'lower'"
     ]
    }
   ],
   "source": [
    "# text_proba = text_clf.predict_proba(vecTest.toarray())"
   ]
  },
  {
   "cell_type": "code",
   "execution_count": null,
   "metadata": {},
   "outputs": [],
   "source": []
  },
  {
   "cell_type": "code",
   "execution_count": 9,
   "metadata": {
    "collapsed": true
   },
   "outputs": [
    {
     "data": {
      "text/plain": [
       "array([ 'роём  стена выпускать наружу два    стен бежать нельзя  даже   уклоняться нельзя  вправо  взгляд два другой боец  бег    сатурн убрать лезвие  скрыться  стена  боец метр пятьдесят   видно     происходить  нестись  я  отставать     драться оставаться метр тридцать   видеть   ',\n",
       "       'характер   навязать снаружи  идти изнутри  раскалываться пульсировать боль вместе  голова  самый страшный    дом  очень далеко   корить себя    взять  себя таблетка  живот    голов  только ходить чтобы забыть  этот боль   я смертельно  крайний мера  ощущение   начаться просто  тот  я заклинить    это',\n",
       "       ' любовь  пятьсот  мир  демократия    дать мир   кукушка   кукушка пожалуй   символ современный искусство  вещь весёленький  самый главный можно повесить  стен    былой популярность  выйти  тираж артист устраивать встреча  успешный продюсер   набирать команда  новое проект  должный пройти  ',\n",
       "       ...,\n",
       "       '  другой дело помимо приятный возможность лишний  пожалеть самый себя   ты сюда привести  тогда  наконец заняться   быть   ситуация куда важный построение любой самоубийственный маршрут поперёк весь  система    время путь  успеть разгадать  загадка  хороший   остаться     это  стоить сомневаться   довольно быстро найти ',\n",
       "       ' видно какой  длина внизу туман  страх  я кружиться голова   пятиться назад  мозг начинать искать другой вариант     слышать   голос  советовать  попробовать тянуть верёвка  наугад  мочь спилить цепочка разбить кандалы отнять ребёнок нога         помочь  даже наоборот   снова возвращаться  край смертельно опасный обрыв  глядеть вниз',\n",
       "       'лицо прогрессивный молодёжь  считать  опасный  выводить  стекло иероглиф врачебный практика  знать  знать послюнявить палец  нарисовать жирный знак вопрос  хороший  таблеточка дать своевременно    хороший красный  решить сначала   просто поговорить  войти  комната          интересный  '],\n",
       "      dtype='<U383')"
      ]
     },
     "execution_count": 9,
     "metadata": {},
     "output_type": "execute_result"
    }
   ],
   "source": [
    "a_test = np.array([], dtype=str)\n",
    "\n",
    "def len_filtr(word):\n",
    "    if (len(word) < 4 or word[0].isupper()):\n",
    "        return ''\n",
    "    else:\n",
    "        return morph.parse(word)[0].normal_form\n",
    "\n",
    "def parseStr(x):\n",
    "    f = np.vectorize(len_filtr)\n",
    "    return f(\"\".join((char if char.isalpha() else \" \") for char in x).split())\n",
    "\n",
    "for x_t in testX.ravel():\n",
    "    a_test = np.append(a_test, ' '.join(parseStr(x_t)))\n",
    "    \n",
    "a_test"
   ]
  },
  {
   "cell_type": "code",
   "execution_count": 10,
   "metadata": {},
   "outputs": [],
   "source": [
    "# proba = text_clf.predict_proba(a_test)"
   ]
  },
  {
   "cell_type": "code",
   "execution_count": 3,
   "metadata": {},
   "outputs": [],
   "source": [
    "# X_train, X_test, Y_train, Y_test = train_test_split(X, y, test_size=0.5)"
   ]
  },
  {
   "cell_type": "code",
   "execution_count": 28,
   "metadata": {},
   "outputs": [],
   "source": [
    "from sklearn.feature_extraction.text import TfidfVectorizer\n",
    "\n",
    "vfunc = np.vectorize(lambda x: ' '.join(string_to_trigramm(x)))\n",
    "vec = TfidfVectorizer()\n",
    "vecX = vec.fit_transform(vfunc(a))"
   ]
  },
  {
   "cell_type": "code",
   "execution_count": 29,
   "metadata": {},
   "outputs": [
    {
     "data": {
      "text/plain": [
       "MultinomialNB(alpha=1.0, class_prior=None, fit_prior=True)"
      ]
     },
     "execution_count": 29,
     "metadata": {},
     "output_type": "execute_result"
    }
   ],
   "source": [
    "model = MultinomialNB()\n",
    "model.fit(vecX.toarray(), y.ravel().astype(int))"
   ]
  },
  {
   "cell_type": "code",
   "execution_count": 30,
   "metadata": {},
   "outputs": [],
   "source": [
    "vecTest = vec.transform(vfunc(a_test))\n",
    "proba = model.predict_proba(vecTest.toarray())\n",
    "predict = model.predict(vecTest.toarray())"
   ]
  },
  {
   "cell_type": "code",
   "execution_count": 8,
   "metadata": {},
   "outputs": [
    {
     "data": {
      "text/plain": [
       "0.5"
      ]
     },
     "execution_count": 8,
     "metadata": {},
     "output_type": "execute_result"
    }
   ],
   "source": [
    "# from sklearn.metrics import roc_auc_score\n",
    "# roc_auc_score(Y_test.ravel().astype(int), predict)"
   ]
  },
  {
   "cell_type": "code",
   "execution_count": 10,
   "metadata": {},
   "outputs": [],
   "source": [
    "def map_to_normal_form(string):\n",
    "    for item in string.split():\n",
    "        yield morph.parse(item)[0].normal_form"
   ]
  },
  {
   "cell_type": "code",
   "execution_count": 27,
   "metadata": {},
   "outputs": [],
   "source": [
    "def string_to_trigramm(string):\n",
    "    for item in string.split():\n",
    "        for i in range(len(item)-2):\n",
    "            yield item[i:i+3]"
   ]
  },
  {
   "cell_type": "code",
   "execution_count": 31,
   "metadata": {
    "collapsed": true
   },
   "outputs": [
    {
     "data": {
      "text/plain": [
       "array([[ 'бум ум» м»… »…. Игр гра рал али «на наш аши ши» ком ома ман анд нде мал аль льч ьчи чиш ишк шка кам ами ста тар арш рши ших кла лас асс ссо сов ов. дев евч вчо чон онк нки ста тал али при рих ихо ход оди дит ить веч ече чер ера рам ами спо пор орт ртз тза зал «бо бол оле лет еть ть» «на наш аши ших их» х». пон оня нят ятн тно бол оль льш ьше пог огл гла лаз азе зет еть «не наш аши ших их» х». Пер ере ред спо пор орт ртз тза зал ало лом пов ове вес еси сил или сте тен енд фот ото тог огр гра раф афи фия иям ями луч учш чши ших спо пор орт ртс тсм сме мен ено нов ов. «на наш аши ши» там был ыли ли. это тог ого сте тен енд нда неу еуд удо дов ово вол оль льс ьст ств тви вию физ изр зру рук уко ков таи аин инс нст ств тве вен енн нны ным обр бра раз азо зом исч сче чез еза зал али ино ног огд гда нек еко кот ото тор оры рые фот ото тог огр гра раф афи фии ии. каю аюс юсь пуб убл бли лич ичн чно одн дну фот отк тку ста тащ'],\n",
       "       [ 'вас аск ска ка! Убр бра рат ать все мыс ысл сли нич иче чег его жда дат ать ть! Зак акр кры рыт ыть гла лаз аза про рос ост сто леж ежа жат ать ть. ь.» тут нач ача чал ало лос ось сь… Аяв ява вас аск ска вжа жал ала мен еня кро ров ова ват ать нев еве вер еро роя оят ятн тно ной сил ило лой мог огл гла пош оше шев еве вел ели лит ить тьс ься дыш ыша шал ала уры рыв ывк вка кам ами ми. одн дну сек еку кун унд нду она вск скр кры рыл ыла мою гол оло лов ову све вер ерх рху сле лев ева сам амо мог ого гла лаз аза за. кос оси сил ила лас ась вле лев ево одн дни ним гла лаз азо зом гол оло лов ову нев ево воз озм змо мож ожн жно был ыло пов ове вер ерн рну нут уть вид иде дел ела там кос осо сой сре рез отс тсу сут утс тст ств тви вие чер ере реп епн пно ной кор оро роб обк бки ним бес еск скр кра рай айн йни ний кос осм смо мос ос. Мад адр дрэ'],\n",
       "       [ 'або бот ота тат ать кто муж ужч жчи чин ино ной поз озн зна нак ако ком оми мит ить тьс ься ся. что пос осм сме мел еле лее зан ани ним има мал али див ива ван два кре рес есл сла общ бще щей вер ера ран анд нде саж ажа жал али ряд ядо дом под одв две вер ерн рну нув увш вше шег его гос ося муж ужч жчи чин ину смо мот отр тре рел ели что пол олу луч учи чит итс тся ся. Дев ево воч очк чки так аки кие сме мел елы лые веш еша шал али вер ере рев евк вку для суш ушк шки бел ель лья тру рус усы сы- ы-с -ст стр три рин инг нги стр тра раз аза зам ами жда дал али зас аса сад аде де. кач аче чес ест ств тве наж ажи жив ивк вки тру рус усы сы- ы-с -ст стр три рин инг нги раб або бот ота тал али пло лох охо хо. Стр три рин инг нга гам муж ужч жчи чин ины пре ред едп дпо поч очи чит ита тал али «вы вып ыпи пит ить пок оку кур ури рит ить ть» муж ужс жск ско кой ком омп мпа пан ани нии ии. Пом оми мим имо общ бще щес ест ств тве вен енн нны ных'],\n",
       "       ..., \n",
       "       [ 'пол оло лот оте тен вос осе сем емь мет етр тра два каж ажд ждо дое ое. Что тоб обы заш ашт што тор ори рив ива вал так аки ким как аки ким ими зах ахо хоч оче чеш ешь сег его год одн дня чём себ ебе отк тка каз азы зыв ыва вал ал. еще сде дел ела лал ала спе пец еци циа иал аль льн ьно вто тор оро рой яру рус вуа уал аль ль. Так при рик ико кол оль льн ьне нее ее. вуа уал али еще пов ове веш ешу 2—3 раз азн зны ных цве вет ето тов про роз озр зра рач ачн чно нос ост сти нав аве вер ерн рно ное 1—1 —15 что тоб обы отп тпу пус уск ска кат ать пол олё лёт ёт. Пар ару рус так пар ару рус ус. Пол олё лёт так пол олё лёт ёт! Эта утя тяж яже жел ели лит ите тел еле лем лет ета тае ает две вер ери ри. Хоч очу что тоб обы вау ауу ууу ууу ууу уу! у!! !!! Кор оро рол оль это'],\n",
       "       [ 'жур урн рно ног ого вра рач ача сде дел ела лал али уко кол кот ото тор оро рог ого рас асс ссл сла лаб аби бил ила лас ась чер ере рез нес еск ско кол оль льк ько мин ину нут зас асн сну нул ула кре реп епк пки ким спо пок око кой ойн йны ным сно ном ом. Ири рин ина Вла лад ади дим ими мир иро ров овн вна зна нал ала что эти мин ину нут уты вер ерн рну нув увш вша шая аяс яся дом омо мой Лиз иза зав аве вет ета зас аст ста тал ала пов ове веш еше шен енн нну ную мат ать при рих ихо хож оже жей ей. Пов ове вес еси сил ила лас ась она сам ама или это был ыло дел ело рук сын ына Мак акс кси сим има или пья ьян яно ног ого муж ужа сле лед едс дст ств тви вию ещё пре ред едс дст сто тоя оял яло уст ста тан ано нов ови вит ить ть. обе бещ еща щан анн нны ный ден ень кви вит ита тан анц нци ция иям ями ква вар арт рти тир ире сос осе сед едк дка при риш ишл шла сот ото тов овы'],\n",
       "       [ 'едл дла лаг ага гае ает етс тся про ров ове вес ест сти дом ому му. так дел ела лае аем ска каз аза зал Вас аси сил или лий ий. ему наз азв зва вал али адр дре рес доб оба бав ави вил или что тоб обы взя зял соб обо бой все нео еоб обх бхо ход оди дим имо мое при рие иез езж зжа жал ал. Что то? Ноу оут утб тбу бук фот ото тоа оап апп ппа пар ара рат так дал але лее ее. Тру руб убк бку пов ове вес еси сил или све вер ерн рну нул Кол оль льц ьце цев ево вой Руб убл бле лев ево во- о-У -Ус Усп спе пен енс нск ско кое шос осс ссе се. Сер ерд рдц дце вдр дру руг нач ача чал ало бит ить тьс ься чащ аще ще. Чем дал аль льш ьше про род одв дви виг ига гал алс лся тем бол оль льш ьше вол олн лно нов ова вал алс лся ся. пон они ним има маю что про рои оис исх схо ход оди дит ит. Как аки кие ие- е-т -то нея еяс ясн сны ные обр бра раз азы вст ста тав ава вал али']],\n",
       "      dtype='<U1179')"
      ]
     },
     "execution_count": 31,
     "metadata": {},
     "output_type": "execute_result"
    }
   ],
   "source": [
    "vfunc = np.vectorize(lambda x: ' '.join(string_to_trigramm(x)))\n",
    "vfunc(a)"
   ]
  },
  {
   "cell_type": "code",
   "execution_count": 35,
   "metadata": {},
   "outputs": [],
   "source": [
    "a = vfunc(a)\n",
    "a_test = vfunc(a_test)"
   ]
  },
  {
   "cell_type": "code",
   "execution_count": null,
   "metadata": {},
   "outputs": [],
   "source": []
  },
  {
   "cell_type": "code",
   "execution_count": 49,
   "metadata": {},
   "outputs": [],
   "source": [
    "vec = TfidfVectorizer(min_df=5, max_df=0.5)\n",
    "\n",
    "vecX = vec.fit_transform(a)\n",
    "vecTest = vec.transform(a_test)\n",
    "\n",
    "model = MultinomialNB(class_prior=[0.7, 0.3])\n",
    "model.fit(vecX.toarray(), y.ravel().astype(int))\n",
    "\n",
    "proba = model.predict_proba(vecTest.toarray())"
   ]
  },
  {
   "cell_type": "code",
   "execution_count": null,
   "metadata": {},
   "outputs": [],
   "source": []
  },
  {
   "cell_type": "code",
   "execution_count": null,
   "metadata": {},
   "outputs": [],
   "source": []
  },
  {
   "cell_type": "code",
   "execution_count": 61,
   "metadata": {},
   "outputs": [
    {
     "name": "stderr",
     "output_type": "stream",
     "text": [
      "/Users/trefilovandrey/Desktop/ML/ДЗ3/venv/lib/python3.6/site-packages/sklearn/linear_model/stochastic_gradient.py:128: FutureWarning: max_iter and tol parameters have been added in <class 'sklearn.linear_model.stochastic_gradient.SGDClassifier'> in 0.19. If both are left unset, they default to max_iter=5 and tol=None. If tol is not None, max_iter defaults to max_iter=1000. From 0.21, default max_iter will be 1000, and default tol will be 1e-3.\n",
      "  \"and default tol will be 1e-3.\" % type(self), FutureWarning)\n",
      "/Users/trefilovandrey/Desktop/ML/ДЗ3/venv/lib/python3.6/site-packages/sklearn/linear_model/stochastic_gradient.py:128: FutureWarning: max_iter and tol parameters have been added in <class 'sklearn.linear_model.stochastic_gradient.SGDClassifier'> in 0.19. If both are left unset, they default to max_iter=5 and tol=None. If tol is not None, max_iter defaults to max_iter=1000. From 0.21, default max_iter will be 1000, and default tol will be 1e-3.\n",
      "  \"and default tol will be 1e-3.\" % type(self), FutureWarning)\n",
      "/Users/trefilovandrey/Desktop/ML/ДЗ3/venv/lib/python3.6/site-packages/sklearn/linear_model/stochastic_gradient.py:128: FutureWarning: max_iter and tol parameters have been added in <class 'sklearn.linear_model.stochastic_gradient.SGDClassifier'> in 0.19. If both are left unset, they default to max_iter=5 and tol=None. If tol is not None, max_iter defaults to max_iter=1000. From 0.21, default max_iter will be 1000, and default tol will be 1e-3.\n",
      "  \"and default tol will be 1e-3.\" % type(self), FutureWarning)\n",
      "/Users/trefilovandrey/Desktop/ML/ДЗ3/venv/lib/python3.6/site-packages/sklearn/linear_model/stochastic_gradient.py:128: FutureWarning: max_iter and tol parameters have been added in <class 'sklearn.linear_model.stochastic_gradient.SGDClassifier'> in 0.19. If both are left unset, they default to max_iter=5 and tol=None. If tol is not None, max_iter defaults to max_iter=1000. From 0.21, default max_iter will be 1000, and default tol will be 1e-3.\n",
      "  \"and default tol will be 1e-3.\" % type(self), FutureWarning)\n",
      "/Users/trefilovandrey/Desktop/ML/ДЗ3/venv/lib/python3.6/site-packages/sklearn/linear_model/stochastic_gradient.py:128: FutureWarning: max_iter and tol parameters have been added in <class 'sklearn.linear_model.stochastic_gradient.SGDClassifier'> in 0.19. If both are left unset, they default to max_iter=5 and tol=None. If tol is not None, max_iter defaults to max_iter=1000. From 0.21, default max_iter will be 1000, and default tol will be 1e-3.\n",
      "  \"and default tol will be 1e-3.\" % type(self), FutureWarning)\n"
     ]
    }
   ],
   "source": [
    "# from sklearn.pipeline import Pipeline\n",
    "from sklearn.linear_model import SGDClassifier\n",
    "from sklearn.calibration import CalibratedClassifierCV\n",
    "\n",
    "clf = SGDClassifier(loss='hinge', max_iter=None)\n",
    "calibrated_clf = CalibratedClassifierCV(clf, cv=5, method='sigmoid')\n",
    "calibrated_clf.fit(vecX.toarray(), y.ravel().astype(int))\n",
    "\n",
    "proba = calibrated_clf.predict_proba(vecTest.toarray())"
   ]
  },
  {
   "cell_type": "code",
   "execution_count": null,
   "metadata": {},
   "outputs": [],
   "source": []
  },
  {
   "cell_type": "code",
   "execution_count": 62,
   "metadata": {},
   "outputs": [],
   "source": [
    "pandas.DataFrame(proba[::, 1:]).to_csv('prediction.csv')"
   ]
  },
  {
   "cell_type": "code",
   "execution_count": null,
   "metadata": {},
   "outputs": [],
   "source": []
  }
 ],
 "metadata": {
  "kernelspec": {
   "display_name": "Python 3",
   "language": "python",
   "name": "python3"
  },
  "language_info": {
   "codemirror_mode": {
    "name": "ipython",
    "version": 3
   },
   "file_extension": ".py",
   "mimetype": "text/x-python",
   "name": "python",
   "nbconvert_exporter": "python",
   "pygments_lexer": "ipython3",
   "version": "3.6.3"
  }
 },
 "nbformat": 4,
 "nbformat_minor": 2
}
